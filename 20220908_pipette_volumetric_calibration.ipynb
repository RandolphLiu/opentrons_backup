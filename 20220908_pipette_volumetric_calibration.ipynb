{
 "cells": [
  {
   "cell_type": "code",
   "execution_count": 2,
   "metadata": {},
   "outputs": [],
   "source": [
    "\"\"\"\n",
    "Yujia Liu    yujialiu@uchicago.edu\n",
    "2022/09/08\n",
    "\"\"\"\n",
    "\n",
    "import numpy as np\n",
    "import opentrons.execute\n",
    "from opentrons import protocol_api\n",
    "\n",
    "# start the protocol context\n",
    "protocol = opentrons.execute.get_protocol_api(\"2.11\")\n",
    "\n",
    "# home is required\n",
    "protocol.set_rail_lights(False)\n",
    "protocol.home()"
   ]
  },
  {
   "cell_type": "code",
   "execution_count": 4,
   "metadata": {},
   "outputs": [],
   "source": [
    "incubator = protocol.load_module(\"temperature module\", 11)\n",
    "\n",
    "rack = incubator.load_labware(\"opentrons_24_aluminumblock_fisher_1.5ml_centrifuge\")    # the rack is mounted upon the temp. module (don't specify slot)\n",
    "\n",
    "tip_rack_1 = protocol.load_labware(\"geb_taller_96_tiprack_10ul\", '2')    # will consume 380 tips in total, about 4 boxes\n",
    "\n",
    "pipette = protocol.load_instrument(\"p10_single\", \"left\", tip_racks = [tip_rack_1])"
   ]
  },
  {
   "cell_type": "code",
   "execution_count": 5,
   "metadata": {},
   "outputs": [],
   "source": [
    "FROM_TUBE = rack.wells_by_name()['A1']\n",
    "TO_TUBE = rack.wells_by_name()['A3']"
   ]
  },
  {
   "cell_type": "code",
   "execution_count": 29,
   "metadata": {},
   "outputs": [],
   "source": [
    "# the actual protocol\n",
    "protocol.set_rail_lights(True)\n",
    "\n",
    "v = 7\n",
    "times = 10\n",
    "\n",
    "pipette.pick_up_tip()\n",
    "for i in range(times):\n",
    "    pipette.aspirate(v, FROM_TUBE)\n",
    "    pipette.dispense(v, TO_TUBE)\n",
    "pipette.drop_tip()\n",
    "\n",
    "protocol.set_rail_lights(False)"
   ]
  }
 ],
 "metadata": {
  "kernelspec": {
   "display_name": "Python 3",
   "language": "python",
   "name": "python3"
  },
  "language_info": {
   "codemirror_mode": {
    "name": "ipython",
    "version": 3
   },
   "file_extension": ".py",
   "mimetype": "text/x-python",
   "name": "python",
   "nbconvert_exporter": "python",
   "pygments_lexer": "ipython3",
   "version": "3.7.1"
  }
 },
 "nbformat": 4,
 "nbformat_minor": 2
}
