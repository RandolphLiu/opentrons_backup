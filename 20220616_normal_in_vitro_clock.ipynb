{
 "cells": [
  {
   "cell_type": "markdown",
   "metadata": {},
   "source": [
    "# Normal in vitro clock\n",
    "\n",
    "The circadian clock of cyanobacteria *Synechococcus elongatus PCC 7942* can be reconstructed *in vitro*.\n",
    "This protocol samples such an *in vitro* clock with uniform time intervals.\n",
    "\n",
    "## Initialize the protocol"
   ]
  },
  {
   "cell_type": "code",
   "execution_count": 1,
   "metadata": {},
   "outputs": [
    {
     "name": "stderr",
     "output_type": "stream",
     "text": [
      "Out of bounds move: X=(418.00000000000006 motor controller, 416.9673140124148 deck) too high for limit 418.0\n",
      "Out of bounds move: X=(418.00000000000006 motor controller, 416.9673140124148 deck) too high for limit 418.0\n"
     ]
    }
   ],
   "source": [
    "# current working dir is /var/lib/jupyter/notebooks\n",
    "import opentrons.execute\n",
    "from opentrons import protocol_api\n",
    "from pipette_viscous import transfer_viscous,aspirate_viscous, dispense_viscous\n",
    "import time, datetime, pytz    # datetime for logging and pytz for timezone conversion\n",
    "\n",
    "# start the protocol context\n",
    "protocol = opentrons.execute.get_protocol_api(\"2.11\")\n",
    "\n",
    "# home is required\n",
    "protocol.home()"
   ]
  },
  {
   "cell_type": "markdown",
   "metadata": {},
   "source": [
    "## Load labware\n",
    "\n",
    "- The incubator is on slot 11\n",
    "- The alluminum rack is mounted to the incubator\n",
    "- The GEB tiprack is on slot 1\n",
    "- The Bio-rad PCR plate is on slot 3\n",
    "- The P10 1st gen pipette is on the left"
   ]
  },
  {
   "cell_type": "code",
   "execution_count": 2,
   "metadata": {},
   "outputs": [],
   "source": [
    "incubator = protocol.load_module(\"temperature module\", 11)\n",
    "\n",
    "rack = incubator.load_labware(\"opentrons_24_aluminumblock_fisher_1.5ml_centrifuge\")    # the rack is mounted upon the temp. module (don't specify slot)\n",
    "\n",
    "tip_rack = protocol.load_labware(\"geb_taller_96_tiprack_10ul\", '1')    # custom labware. see definition at labware/\n",
    "\n",
    "plate = protocol.load_labware(\"biorad_96_wellplate_200ul_pcr\", '3')\n",
    "\n",
    "pipette = protocol.load_instrument(\"p10_single\", \"left\", tip_racks = [tip_rack])"
   ]
  },
  {
   "cell_type": "markdown",
   "metadata": {},
   "source": [
    "## Sampling and liquid settings\n",
    "\n",
    "- The reaction tube is at A1 of the alluminum rack, with vol at least 6 * 19 = 114ul, round up to 150ul.\n",
    "- The dye tube is at A3, with vol at least 2 * 19 = 38ul, round up to 100ul\n"
   ]
  },
  {
   "cell_type": "code",
   "execution_count": 3,
   "metadata": {},
   "outputs": [],
   "source": [
    "SAMPLE_INT = 4 * 60    # time interval in minutes\n",
    "SAMPLE_STEPS = 18    # plus the initial sampling, in total sample SAMPLE_STEPS + 1 times\n",
    "SAMPLE_VOL = 6    # ul, volume per sample\n",
    "SAMPLE_OFFSET = 8    # define the starting well\n",
    "#OIL_VOL = 8    # ul    # now we know that adding oil is a bad idea. but the protocol behind it can still be useful\n",
    "\n",
    "RXN_TUBE = rack.wells_by_name()[\"A1\"]\n",
    "DYE_TUBE = rack.wells_by_name()[\"A3\"]\n",
    "#OIL_TUBE = rack.wells_by_name()[\"A5\"]"
   ]
  },
  {
   "cell_type": "markdown",
   "metadata": {},
   "source": [
    "<div class=\"alert alert-warning\">\n",
    "    <h2>STOP!</h2>\n",
    "    Before you proceed, please check:<br />\n",
    "    Have you placed the required labware?<br />\n",
    "    Have you put the right volume of liquid in required position?\n",
    "</div>"
   ]
  },
  {
   "cell_type": "markdown",
   "metadata": {},
   "source": [
    "## Turn on the incubator"
   ]
  },
  {
   "cell_type": "code",
   "execution_count": 4,
   "metadata": {},
   "outputs": [],
   "source": [
    "incubator.set_temperature(30)    # in celcius"
   ]
  },
  {
   "cell_type": "markdown",
   "metadata": {},
   "source": [
    "## Running"
   ]
  },
  {
   "cell_type": "code",
   "execution_count": null,
   "metadata": {
    "scrolled": false
   },
   "outputs": [
    {
     "name": "stderr",
     "output_type": "stream",
     "text": [
      "Out of bounds move: X=(418.00000000000006 motor controller, 416.9673140124148 deck) too high for limit 418.0\n"
     ]
    },
    {
     "name": "stdout",
     "output_type": "stream",
     "text": [
      "Sampling # 1 finished on 07/06/22 16:21:57\n",
      "Sampling # 2 finished on 07/06/22 20:21:57\n",
      "Sampling # 3 finished on 07/07/22 00:21:57\n",
      "Sampling # 4 finished on 07/07/22 04:21:57\n",
      "Sampling # 5 finished on 07/07/22 08:21:57\n",
      "Sampling # 6 finished on 07/07/22 12:21:57\n",
      "Sampling # 7 finished on 07/07/22 16:21:58\n"
     ]
    }
   ],
   "source": [
    "def run(protocol:protocol_api.ProtocolContext):\n",
    "    \"Sampling the in vitro clock and seal with oil\"\n",
    "    \n",
    "    protocol.set_rail_lights(True)    # to indicate start of protocols\n",
    "    \n",
    "    start_t = time.time()    # record starting time\n",
    "    \n",
    "    for i in range(SAMPLE_STEPS + 1) :\n",
    "        # delay. except first sampling starts immediately\n",
    "        if i > 0 :\n",
    "            tot_wait_t = i * SAMPLE_INT * 60    # total waiting time from start in seconds\n",
    "            delay_secs = start_t + tot_wait_t - time.time()    # how many more seconds to wait\n",
    "            # infinite loop will block the process, which messes up with simulation, but actually ok here\n",
    "            protocol.delay(seconds=delay_secs)\n",
    "            \n",
    "        # current well\n",
    "        cur_well = plate.wells()[i + SAMPLE_OFFSET]\n",
    "            \n",
    "        # pipette the dye\n",
    "        transfer_viscous(pipette, protocol, SAMPLE_VOL / 3, DYE_TUBE, cur_well)\n",
    "        \n",
    "        # pipette the sample\n",
    "        transfer_viscous(pipette, protocol, SAMPLE_VOL, RXN_TUBE, cur_well, if_mix=True)\n",
    "        \n",
    "        # pipette oil\n",
    "        #aspirate_viscous(pipette, protocol, OIL_VOL, OIL_TUBE, if_touch_tip=True)\n",
    "        #dispense_viscous(pipette, protocol, OIL_VOL, cur_well, if_mix=False, disp_height=2.5)\n",
    "        \n",
    "        # log\n",
    "        tz = pytz.timezone('America/Chicago')\n",
    "        chicago_now = datetime.datetime.now(tz)\n",
    "        print(\"Sampling # \" + str(i + 1) + \" finished on \" + chicago_now.strftime(\"%m/%d/%y %H:%M:%S\"))\n",
    "    \n",
    "    protocol.set_rail_lights(False)    # to indicate end of protocols\n",
    "    \n",
    "# actual running\n",
    "run(protocol)"
   ]
  },
  {
   "cell_type": "markdown",
   "metadata": {},
   "source": [
    "TODO:\n",
    "\n",
    "- [x] Pipette oil\n",
    "- [x] Dispense height too low now\n",
    "- [x] Tune robot time. Robot time is read only. time zone cannot be set on a system-level"
   ]
  }
 ],
 "metadata": {
  "kernelspec": {
   "display_name": "Python 3",
   "language": "python",
   "name": "python3"
  },
  "language_info": {
   "codemirror_mode": {
    "name": "ipython",
    "version": 3
   },
   "file_extension": ".py",
   "mimetype": "text/x-python",
   "name": "python",
   "nbconvert_exporter": "python",
   "pygments_lexer": "ipython3",
   "version": "3.7.1"
  }
 },
 "nbformat": 4,
 "nbformat_minor": 2
}
