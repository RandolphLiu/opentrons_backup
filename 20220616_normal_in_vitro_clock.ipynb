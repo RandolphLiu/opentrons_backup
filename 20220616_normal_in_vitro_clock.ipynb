{
 "cells": [
  {
   "cell_type": "markdown",
   "metadata": {},
   "source": [
    "# Normal in vitro clock\n",
    "\n",
    "The circadian clock of cyanobacteria *Synechococcus elongatus PCC 7942* can be reconstructed *in vitro*.\n",
    "This protocol samples such an *in vitro* clock with uniform time intervals.\n",
    "\n",
    "## Initialize the protocol"
   ]
  },
  {
   "cell_type": "code",
   "execution_count": null,
   "metadata": {},
   "outputs": [],
   "source": [
    "import opentrons.execute\n",
    "from opentrons import protocol_api\n",
    "from pipette_viscous import transfer_viscous\n",
    "import time\n",
    "\n",
    "# start the protocol context\n",
    "protocol = opentrons.execute.get_protocol_api(\"2.11\")\n",
    "\n",
    "# home is required\n",
    "protocol.home()"
   ]
  },
  {
   "cell_type": "markdown",
   "metadata": {},
   "source": [
    "## Load labware"
   ]
  },
  {
   "cell_type": "code",
   "execution_count": null,
   "metadata": {},
   "outputs": [],
   "source": [
    "incubator = protocol.load_module(\"temperature module\", 11)\n",
    "\n",
    "rack = incubator.load_labware(\"opentrons_24_aluminumblock_nest_1.5ml_snapcap\")    # the rack is mounted upon the temp. module (don't specify slot)\n",
    "\n",
    "tiprack = protocol.load_labware(\"geb_taller_96_tiprack_10ul\", '1')    # custom labware. see definition at labware/\n",
    "\n",
    "plate = protocol.load_labware(\"biorad_96_wellplate_200ul_pcr\", '3')\n",
    "\n",
    "pipette = protocol.load_instrument(\"p10_single\", \"left\", tip_racks = [tip_rack])"
   ]
  },
  {
   "cell_type": "markdown",
   "metadata": {},
   "source": [
    "## Sampling settings\n",
    "\n",
    "- The reaction tube is at A1 of the alluminum rack, with vol at least 6 * 25 = 150ul, round up to 200ul.\n",
    "- The dye tube is at A3, with vol at least 2 * 25 = 50ul, round up to 100ul\n",
    "- The oil tube is at A5, with vol at least 8 * 25 = 200ul, round up to 250ul"
   ]
  },
  {
   "cell_type": "code",
   "execution_count": null,
   "metadata": {},
   "outputs": [],
   "source": [
    "SAMPLE_INT = 5    # time interval in minutes\n",
    "SAMPLE_STEPS = 24    # plus the initial sampling, in total sample SAMPLE_STEPS + 1 times\n",
    "SAMPLE_VOL = 6    # ul, volume per sample\n",
    "SAMPLE_OFFSET = 0    # define the starting well\n",
    "OIL_VOL = 8    # ul\n",
    "\n",
    "RXN_TUBE = rack.wells_by_name()[\"A1\"]\n",
    "DYE_TUBE = rack.wells_by_name()[\"A3\"]\n",
    "OIL_TUBE = rack.wells_by_name()[\"A5\"]"
   ]
  },
  {
   "cell_type": "markdown",
   "metadata": {},
   "source": [
    "## Turn on the incubator"
   ]
  },
  {
   "cell_type": "code",
   "execution_count": null,
   "metadata": {},
   "outputs": [],
   "source": [
    "incubator.set_temperature(30)    # in celcius"
   ]
  },
  {
   "cell_type": "markdown",
   "metadata": {},
   "source": [
    "## Running"
   ]
  },
  {
   "cell_type": "code",
   "execution_count": null,
   "metadata": {},
   "outputs": [],
   "source": [
    "def run(protocol:protocol_api.ProtocolContext):\n",
    "    \"Sampling the in vitro clock and seal with oil\"\n",
    "    \n",
    "    protocol.set_rail_lights(True)    # to indicate start of protocols\n",
    "    \n",
    "    start_time = time.time()    # record starting time\n",
    "    \n",
    "    for i in range(SAMPLE_STEPS + 1) :\n",
    "        # delay. except first sampling starts immediately\n",
    "        if i > 0 :\n",
    "            tot_wait_t = i * SAMPLE_INT * 60    # total waiting time from start in seconds\n",
    "            delay_secs = start_t + tot_wait_t - time.time()    # how many more seconds to wait\n",
    "            # infinite loop will block the process, which messes up with simulation, but actually ok here\n",
    "            protocol.delay(seconds=delay_secs)\n",
    "            \n",
    "        # current well\n",
    "        cur_well = plate.wells()[i + SAMPLE_OFFSET]\n",
    "            \n",
    "        # pipette the dye\n",
    "        transfer_viscous(pipette, protocol, SAMPLE_VOL / 3, DYE_TUBE, cur_well)\n",
    "        \n",
    "        # pipette the sample\n",
    "        transfer_viscous(pipette, protocol, SAMPLE_VOL, RXN_TUBE, cur_well, if_mix=True)\n",
    "        \n",
    "        # log\n",
    "        print(\"Sampling # \" + str(i + 1) + \" starts on \" + time.strftime(\"%m/%d/%y %H:%M:%S\"))\n",
    "    \n",
    "    protocol.set_rail_lights(False)    # to indicate end of protocols"
   ]
  }
 ],
 "metadata": {
  "kernelspec": {
   "display_name": "Python 3",
   "language": "python",
   "name": "python3"
  },
  "language_info": {
   "codemirror_mode": {
    "name": "ipython",
    "version": 3
   },
   "file_extension": ".py",
   "mimetype": "text/x-python",
   "name": "python",
   "nbconvert_exporter": "python",
   "pygments_lexer": "ipython3",
   "version": "3.7.1"
  }
 },
 "nbformat": 4,
 "nbformat_minor": 2
}
