{
 "cells": [
  {
   "cell_type": "markdown",
   "metadata": {},
   "source": [
    "# Simulated growth in a test tube"
   ]
  },
  {
   "cell_type": "markdown",
   "metadata": {},
   "source": [
    "# Calculations"
   ]
  },
  {
   "cell_type": "code",
   "execution_count": 2,
   "metadata": {},
   "outputs": [],
   "source": [
    "# libraries\n",
    "import numpy as np\n",
    "from src.evap_standard_curve import *"
   ]
  },
  {
   "cell_type": "markdown",
   "metadata": {},
   "source": [
    "<div class=\"alert alert-success\">\n",
    "    Modify your parameters here\n",
    "</div>"
   ]
  },
  {
   "cell_type": "code",
   "execution_count": 3,
   "metadata": {},
   "outputs": [],
   "source": [
    "# parameters\n",
    "\n",
    "# ! neither v_s or v_d should > 10 ul since we have a p10 pipette\n",
    "tau = 6    # hours. doubling time\n",
    "v_s = 9    # ul. volume per sample\n",
    "t_s = 4    # hours. time interval between samples\n",
    "        # rehydration frequency is the same as sampling frequency\n",
    "v_d = 3    # dump volume. the frequency of dumping is the same as sampling.\n",
    "        # this is useful to avoid very small initial volume/growth volume\n",
    "    \n",
    "SAMPLE_OFFSET = 0    # use if not starting from A1\n",
    "T_TOT = 72\n",
    "\n",
    "# constants\n",
    "\n",
    "V_MIN = 1    # ul. minimal volume the pipette can handle in one operation\n",
    "T_MIN = 0.5    # hours. minimal time interval between contiguous steps in a sequence, e.g., two  rehydration steps"
   ]
  },
  {
   "cell_type": "code",
   "execution_count": 4,
   "metadata": {},
   "outputs": [
    {
     "name": "stdout",
     "output_type": "stream",
     "text": [
      "Initial volume should be 26.0 ul\n"
     ]
    }
   ],
   "source": [
    "# find out the \"balancing\" initial volume\n",
    "\n",
    "# v_removed = v_b * ln(2) * t_s / tau\n",
    "# where v_b is the balancing volume\n",
    "\n",
    "v_removed = v_s + v_d    # in time step t_s, how much volume is removed\n",
    "v_b = v_removed * tau / (np.log(2) * t_s)\n",
    "v_b = np.round(v_b, decimals=1)    # restricted by precision of the pipette\n",
    "\n",
    "print(\"Initial volume should be\", v_b, \"ul\")"
   ]
  },
  {
   "cell_type": "code",
   "execution_count": 5,
   "metadata": {},
   "outputs": [
    {
     "name": "stdout",
     "output_type": "stream",
     "text": [
      "Given that 12 ul is removed per 4 hours , the total volume should 'grow' by 3.0 ul for 4 times (interval = 1.0 hours) in the same period.\n"
     ]
    }
   ],
   "source": [
    "# find the \"growth\" interval\n",
    "# notice that the strategy is only a function of sampling vol and interval, and discard vol, but not tau\n",
    "# (tau determines initial vol)\n",
    "\n",
    "v_removed = v_s + v_d    # which is also the total growth vol\n",
    "\n",
    "max_n_pip = int(np.floor(t_s / T_MIN))    # max number of pipetting steps, restricted by T_MIN\n",
    "\n",
    "v_growth = -1    # flag for no strategy\n",
    "# starting from the max # pipettes\n",
    "for n_pip in range(max_n_pip + 1, 1, -1):\n",
    "    \n",
    "    # i must be a factor of max__pip\n",
    "    if max_n_pip % n_pip != 0:\n",
    "        continue\n",
    "        \n",
    "    v_cur = np.round(v_removed / n_pip, decimals=1)\n",
    "    #print(\"Trying 'growth' volume\", v_cur, \"ul, pipetting\", n_pip, \"times per sampling...\")\n",
    "    \n",
    "    if v_cur >= 3 * V_MIN and v_cur <= 10:\n",
    "        # the smallest v_growth satisfies min. pipetting precision is what we want\n",
    "        # v_growth consists of 3 pipetting steps, thus x3\n",
    "        v_growth = v_cur\n",
    "        break\n",
    "\n",
    "if v_growth == -1:\n",
    "    print(\"No 'growth' volume found!\")\n",
    "else:\n",
    "    print(\"Given that\", v_removed, \"ul is removed per\", t_s, \"hours\",\n",
    "          \", the total volume should 'grow' by\", v_growth, \"ul for\", n_pip, \"times (interval =\",\n",
    "          t_s/n_pip, \"hours) in the same period.\")"
   ]
  },
  {
   "cell_type": "code",
   "execution_count": 6,
   "metadata": {},
   "outputs": [
    {
     "name": "stdout",
     "output_type": "stream",
     "text": [
      "Rehydration vol each time is 4.1\n"
     ]
    }
   ],
   "source": [
    "# find the rehydration vol\n",
    "\n",
    "if t_s == 2:\n",
    "    v_hydrate = evap_vol_2h(v_s / 3 * 4)\n",
    "elif t_s == 4:\n",
    "    v_hydrate = evap_vol_4h(v_s / 3 * 4)\n",
    "else:\n",
    "    raise Exception(\"Rehydration interval can be only either 2 or 4 hours\")\n",
    "\n",
    "print(\"Rehydration vol each time is\", v_hydrate)"
   ]
  },
  {
   "cell_type": "markdown",
   "metadata": {},
   "source": [
    "# Initialization"
   ]
  },
  {
   "cell_type": "code",
   "execution_count": 7,
   "metadata": {},
   "outputs": [
    {
     "name": "stderr",
     "output_type": "stream",
     "text": [
      "Out of bounds move: X=(418.00000000000006 motor controller, 416.9673140124148 deck) too high for limit 418.0\n",
      "Out of bounds move: X=(418.00000000000006 motor controller, 416.9673140124148 deck) too high for limit 418.0\n"
     ]
    }
   ],
   "source": [
    "# current working dir is /var/lib/jupyter/notebooks\n",
    "import numpy as np\n",
    "import opentrons.execute\n",
    "from opentrons import protocol_api\n",
    "from src.pipette_viscous import transfer_viscous,aspirate_viscous, dispense_viscous\n",
    "import src.scheduler as scheduler\n",
    "from src.evap_standard_curve import *\n",
    "\n",
    "# start the protocol context\n",
    "protocol = opentrons.execute.get_protocol_api(\"2.11\")\n",
    "\n",
    "# home is required\n",
    "protocol.set_rail_lights(False)\n",
    "protocol.home()"
   ]
  },
  {
   "cell_type": "markdown",
   "metadata": {},
   "source": [
    "## Load labware\n",
    "\n",
    "- The incubator is on slot 11\n",
    "- The alluminum rack is mounted to the incubator\n",
    "- The GEB tiprack is on slot 2, 5, 6, 8, 9\n",
    "- The Bio-rad PCR plate is on slot 3\n",
    "- The P10 1st gen pipette is on the left"
   ]
  },
  {
   "cell_type": "code",
   "execution_count": 8,
   "metadata": {},
   "outputs": [],
   "source": [
    "incubator = protocol.load_module(\"temperature module\", 11)\n",
    "\n",
    "rack = incubator.load_labware(\"opentrons_24_aluminumblock_fisher_1.5ml_centrifuge\")    # the rack is mounted upon the temp. module (don't specify slot)\n",
    "\n",
    "tip_rack_1 = protocol.load_labware(\"geb_taller_96_tiprack_10ul\", '2')    # will consume 380 tips in total, about 4 boxes\n",
    "tip_rack_2 = protocol.load_labware(\"geb_taller_96_tiprack_10ul\", '5')\n",
    "tip_rack_3 = protocol.load_labware(\"geb_taller_96_tiprack_10ul\", '6')\n",
    "tip_rack_4 = protocol.load_labware(\"geb_taller_96_tiprack_10ul\", '8')\n",
    "tip_rack_5 = protocol.load_labware(\"geb_taller_96_tiprack_10ul\", '9')    # custom labware. see definition at labware/\n",
    "\n",
    "plate = protocol.load_labware(\"biorad_96_wellplate_200ul_pcr\", '3')\n",
    "\n",
    "pipette = protocol.load_instrument(\"p10_single\", \"left\", \n",
    "                                   tip_racks = [tip_rack_1, tip_rack_2, tip_rack_3, tip_rack_4, tip_rack_5])"
   ]
  },
  {
   "cell_type": "markdown",
   "metadata": {},
   "source": [
    "# Define liquid/tubes"
   ]
  },
  {
   "cell_type": "code",
   "execution_count": 9,
   "metadata": {},
   "outputs": [],
   "source": [
    "RXN_TUBE = rack.wells_by_name()[\"A1\"]\n",
    "DYE_TUBE = rack.wells_by_name()[\"A3\"]\n",
    "WAT_TUBE = rack.wells_by_name()[\"A5\"]\n",
    "DIS_TUBE = rack.wells_by_name()[\"C1\"]    # discard\n",
    "A_TUBE = rack.wells_by_name()[\"C3\"]    # 3x KaiA\n",
    "B_TUBE = rack.wells_by_name()[\"C4\"]    # 3x KaiB\n",
    "U_TUBE = rack.wells_by_name()[\"C5\"]    # 3x unphosphorylated KaiC"
   ]
  },
  {
   "cell_type": "markdown",
   "metadata": {},
   "source": [
    "# Define operations"
   ]
  },
  {
   "cell_type": "code",
   "execution_count": 13,
   "metadata": {},
   "outputs": [],
   "source": [
    "def sample_and_discard(idx):\n",
    "    \"take a sample from the tube to a 96-well plate\"\n",
    "\n",
    "    # current well\n",
    "    cur_well = plate.wells()[idx + SAMPLE_OFFSET]\n",
    "\n",
    "    # pipette the dye\n",
    "    transfer_viscous(pipette, protocol, v_s / 3, DYE_TUBE, cur_well)\n",
    "\n",
    "    # pipette the sample\n",
    "    transfer_viscous(pipette, protocol, v_s, RXN_TUBE, cur_well, if_mix=True)\n",
    "    \n",
    "    # discard from reaction\n",
    "    aspirate_viscous(pipette, protocol, v_d, RXN_TUBE)\n",
    "    pipette.dispense(v_d, DIS_TUBE)\n",
    "    pipette.drop_tip()\n",
    "\n",
    "# for logging\n",
    "str_sample_and_discard = \"Sample and mix with loading buffer, and discard from the reaction\"\n",
    "\n",
    "def rehydrate(idx):\n",
    "    \"to prevent drying down\"\n",
    "\n",
    "    # determine rehydration vol\n",
    "    if t_s == 2:\n",
    "        v_hydrate = evap_vol_2h(v_s / 3 * 4)\n",
    "    elif t_s == 4:\n",
    "        v_hydrate = evap_vol_4h(v_s / 3 * 4)\n",
    "    else:\n",
    "        raise Exception(\"Rehydration interval can be only either 2 or 4 hours\")\n",
    "    \n",
    "    for i in range(idx):\n",
    "        cur_well = plate.wells()[i + SAMPLE_OFFSET]\n",
    "        \n",
    "        pipette.pick_up_tip()\n",
    "        pipette.aspirate(v_hydrate, WAT_TUBE.bottom())    # just water, no oil\n",
    "        dispense_viscous(pipette, protocol, v_hydrate, cur_well, if_mix=True)\n",
    "        \n",
    "str_rehydrate = \"Rehydrate to prevent drying down\"\n",
    "        \n",
    "def grow(v_g):\n",
    "    \"dilute the reaction with U-KaiC, KaiA, and KaiB by volume v_g\"\n",
    "    \n",
    "    v_g_per_tube = np.round(v_g / 3, 1)\n",
    "    \n",
    "    for from_tube in [U_TUBE, A_TUBE, B_TUBE]:\n",
    "        aspirate_viscous(pipette, protocol, v_g_per_tube, from_tube)\n",
    "        # be sure to dispense at the bottom\n",
    "        dispense_viscous(pipette, protocol, v_g_per_tube, RXN_TUBE, disp_height=0, if_mix=True, if_blowout=False)\n",
    "        # it's also okay to mix KaiA and KaiB in one tube, then all conc are 2x\n",
    "    \n",
    "str_grow = \"Simulate growth\""
   ]
  },
  {
   "cell_type": "markdown",
   "metadata": {},
   "source": [
    "# Define instructions"
   ]
  },
  {
   "cell_type": "markdown",
   "metadata": {},
   "source": [
    "## This is a test for each operation"
   ]
  },
  {
   "cell_type": "code",
   "execution_count": 7,
   "metadata": {
    "scrolled": true
   },
   "outputs": [
    {
     "name": "stdout",
     "output_type": "stream",
     "text": [
      "A total of 9 tips is required\n",
      "\n",
      "At 0.00 hours, Sample and mix with loading buffer, and discard from the reaction, with params (0,)\n",
      "At 0.00 hours, Sample and mix with loading buffer, and discard from the reaction, with params (1,)\n",
      "At 0.00 hours, Rehydrate to prevent drying down, with params (2,)\n",
      "At 0.00 hours, Simulate growth, with params (4.5,)\n"
     ]
    }
   ],
   "source": [
    "# scheduler.drop()\n",
    "# scheduler.cat(time_vec=[0, 0, 0, 0],\n",
    "#              func_vec=[sample_and_discard, sample_and_discard, rehydrate, grow],\n",
    "#              param_vec=[(0,), (1,), (2,), (4.5,)],\n",
    "#              str_vec=[str_sample_and_discard, str_sample_and_discard, str_rehydrate, str_grow],\n",
    "#              n_tip_vec=[3, 3, 2, 3])\n",
    "# scheduler.report(unit=\"hours\")"
   ]
  },
  {
   "cell_type": "markdown",
   "metadata": {},
   "source": [
    "## The real instructions"
   ]
  },
  {
   "cell_type": "code",
   "execution_count": 11,
   "metadata": {},
   "outputs": [],
   "source": [
    "incubator.set_temperature(30)"
   ]
  },
  {
   "cell_type": "code",
   "execution_count": 16,
   "metadata": {
    "scrolled": true
   },
   "outputs": [
    {
     "name": "stdout",
     "output_type": "stream",
     "text": [
      "A total of 273 tips is required\n",
      "\n",
      "At 1.00 hours, Simulate growth, with params (3.0,)\n",
      "At 2.00 hours, Simulate growth, with params (3.0,)\n",
      "At 3.00 hours, Simulate growth, with params (3.0,)\n",
      "At 4.00 hours, Simulate growth, with params (3.0,)\n",
      "At 5.00 hours, Simulate growth, with params (3.0,)\n",
      "At 6.00 hours, Simulate growth, with params (3.0,)\n",
      "At 7.00 hours, Simulate growth, with params (3.0,)\n",
      "At 8.00 hours, Simulate growth, with params (3.0,)\n",
      "At 9.00 hours, Simulate growth, with params (3.0,)\n",
      "At 10.00 hours, Simulate growth, with params (3.0,)\n",
      "At 11.00 hours, Simulate growth, with params (3.0,)\n",
      "At 12.00 hours, Simulate growth, with params (3.0,)\n",
      "At 13.00 hours, Simulate growth, with params (3.0,)\n",
      "At 14.00 hours, Simulate growth, with params (3.0,)\n",
      "At 15.00 hours, Simulate growth, with params (3.0,)\n",
      "At 16.00 hours, Simulate growth, with params (3.0,)\n",
      "At 17.00 hours, Simulate growth, with params (3.0,)\n",
      "At 18.00 hours, Simulate growth, with params (3.0,)\n",
      "At 19.00 hours, Simulate growth, with params (3.0,)\n",
      "At 20.00 hours, Simulate growth, with params (3.0,)\n",
      "At 21.00 hours, Simulate growth, with params (3.0,)\n",
      "At 22.00 hours, Simulate growth, with params (3.0,)\n",
      "At 23.00 hours, Simulate growth, with params (3.0,)\n",
      "At 24.00 hours, Simulate growth, with params (3.0,)\n",
      "At 25.00 hours, Simulate growth, with params (3.0,)\n",
      "At 26.00 hours, Simulate growth, with params (3.0,)\n",
      "At 27.00 hours, Simulate growth, with params (3.0,)\n",
      "At 28.00 hours, Simulate growth, with params (3.0,)\n",
      "At 29.00 hours, Simulate growth, with params (3.0,)\n",
      "At 30.00 hours, Simulate growth, with params (3.0,)\n",
      "At 31.00 hours, Simulate growth, with params (3.0,)\n",
      "At 32.00 hours, Simulate growth, with params (3.0,)\n",
      "At 33.00 hours, Simulate growth, with params (3.0,)\n",
      "At 34.00 hours, Simulate growth, with params (3.0,)\n",
      "At 35.00 hours, Simulate growth, with params (3.0,)\n",
      "At 36.00 hours, Simulate growth, with params (3.0,)\n",
      "At 37.00 hours, Simulate growth, with params (3.0,)\n",
      "At 38.00 hours, Simulate growth, with params (3.0,)\n",
      "At 39.00 hours, Simulate growth, with params (3.0,)\n",
      "At 40.00 hours, Simulate growth, with params (3.0,)\n",
      "At 41.00 hours, Simulate growth, with params (3.0,)\n",
      "At 42.00 hours, Simulate growth, with params (3.0,)\n",
      "At 43.00 hours, Simulate growth, with params (3.0,)\n",
      "At 44.00 hours, Simulate growth, with params (3.0,)\n",
      "At 45.00 hours, Simulate growth, with params (3.0,)\n",
      "At 46.00 hours, Simulate growth, with params (3.0,)\n",
      "At 47.00 hours, Simulate growth, with params (3.0,)\n",
      "At 48.00 hours, Simulate growth, with params (3.0,)\n",
      "At 49.00 hours, Simulate growth, with params (3.0,)\n",
      "At 50.00 hours, Simulate growth, with params (3.0,)\n",
      "At 51.00 hours, Simulate growth, with params (3.0,)\n",
      "At 52.00 hours, Simulate growth, with params (3.0,)\n",
      "At 53.00 hours, Simulate growth, with params (3.0,)\n",
      "At 54.00 hours, Simulate growth, with params (3.0,)\n",
      "At 55.00 hours, Simulate growth, with params (3.0,)\n",
      "At 56.00 hours, Simulate growth, with params (3.0,)\n",
      "At 57.00 hours, Simulate growth, with params (3.0,)\n",
      "At 58.00 hours, Simulate growth, with params (3.0,)\n",
      "At 59.00 hours, Simulate growth, with params (3.0,)\n",
      "At 60.00 hours, Simulate growth, with params (3.0,)\n",
      "At 61.00 hours, Simulate growth, with params (3.0,)\n",
      "At 62.00 hours, Simulate growth, with params (3.0,)\n",
      "At 63.00 hours, Simulate growth, with params (3.0,)\n",
      "At 64.00 hours, Simulate growth, with params (3.0,)\n",
      "At 65.00 hours, Simulate growth, with params (3.0,)\n",
      "At 66.00 hours, Simulate growth, with params (3.0,)\n",
      "At 67.00 hours, Simulate growth, with params (3.0,)\n",
      "At 68.00 hours, Simulate growth, with params (3.0,)\n",
      "At 69.00 hours, Simulate growth, with params (3.0,)\n",
      "At 70.00 hours, Simulate growth, with params (3.0,)\n",
      "At 71.00 hours, Simulate growth, with params (3.0,)\n",
      "At 72.00 hours, Simulate growth, with params (3.0,)\n",
      "At 0.00 hours, Sample and mix with loading buffer, and discard from the reaction, with params (0,)\n",
      "At 4.00 hours, Sample and mix with loading buffer, and discard from the reaction, with params (1,)\n",
      "At 8.00 hours, Sample and mix with loading buffer, and discard from the reaction, with params (2,)\n",
      "At 12.00 hours, Sample and mix with loading buffer, and discard from the reaction, with params (3,)\n",
      "At 16.00 hours, Sample and mix with loading buffer, and discard from the reaction, with params (4,)\n",
      "At 20.00 hours, Sample and mix with loading buffer, and discard from the reaction, with params (5,)\n",
      "At 24.00 hours, Sample and mix with loading buffer, and discard from the reaction, with params (6,)\n",
      "At 28.00 hours, Sample and mix with loading buffer, and discard from the reaction, with params (7,)\n",
      "At 32.00 hours, Sample and mix with loading buffer, and discard from the reaction, with params (8,)\n",
      "At 36.00 hours, Sample and mix with loading buffer, and discard from the reaction, with params (9,)\n",
      "At 40.00 hours, Sample and mix with loading buffer, and discard from the reaction, with params (10,)\n",
      "At 44.00 hours, Sample and mix with loading buffer, and discard from the reaction, with params (11,)\n",
      "At 48.00 hours, Sample and mix with loading buffer, and discard from the reaction, with params (12,)\n",
      "At 52.00 hours, Sample and mix with loading buffer, and discard from the reaction, with params (13,)\n",
      "At 56.00 hours, Sample and mix with loading buffer, and discard from the reaction, with params (14,)\n",
      "At 60.00 hours, Sample and mix with loading buffer, and discard from the reaction, with params (15,)\n",
      "At 64.00 hours, Sample and mix with loading buffer, and discard from the reaction, with params (16,)\n",
      "At 68.00 hours, Sample and mix with loading buffer, and discard from the reaction, with params (17,)\n",
      "At 72.00 hours, Sample and mix with loading buffer, and discard from the reaction, with params (18,)\n"
     ]
    }
   ],
   "source": [
    "scheduler.drop()\n",
    "\n",
    "# growth\n",
    "t_growth = t_s / n_pip\n",
    "n_steps_growth = int(T_TOT / t_growth)\n",
    "\n",
    "scheduler.cat(time_vec=np.arange(1, n_steps_growth + 1) * t_growth * 60,\n",
    "             func_vec=[grow] * n_steps_growth,\n",
    "             param_vec=[(v_growth,)] * n_steps_growth,    # dilution volumes are all the same\n",
    "             str_vec=[str_grow] * n_steps_growth,\n",
    "             n_tip_vec=[3] * n_steps_growth)\n",
    "\n",
    "# sampling\n",
    "n_steps_s = int(T_TOT / t_s) + 1    # plus time 0\n",
    "\n",
    "scheduler.cat(time_vec=np.arange(n_steps_s) * t_s * 60,\n",
    "             func_vec=[sample_and_discard] * n_steps_s,\n",
    "             param_vec=[ (i,) for i in range(n_steps_s) ],\n",
    "             str_vec=[str_sample_and_discard] * n_steps_s,\n",
    "             n_tip_vec=[3] * n_steps_s)\n",
    "\n",
    "# rehydration\n",
    "# scheduler.cat(time_vec=np.arange(1, n_steps_s) * t_s * 60,\n",
    "#              func_vec=[rehydrate] * (n_steps_s - 1),\n",
    "#              param_vec=[ (i,) for i in range(1, n_steps_s) ],\n",
    "#              str_vec=[str_rehydrate] * (n_steps_s - 1),\n",
    "#              n_tip_vec=[ i for i in range(1, n_steps_s) ])\n",
    "\n",
    "scheduler.report(unit=\"hours\")"
   ]
  },
  {
   "cell_type": "markdown",
   "metadata": {},
   "source": [
    "<div class=\"alert alert-success\">\n",
    "    Prepare the following liquid\n",
    "</div>"
   ]
  },
  {
   "cell_type": "code",
   "execution_count": 15,
   "metadata": {},
   "outputs": [
    {
     "name": "stdout",
     "output_type": "stream",
     "text": [
      "Reaction tube at A1, 38.0 ul\n",
      "Dye tube at A3, 107.0 ul\n",
      "Water tube at A5, 751.1 ul\n",
      "Stock protein tube at C3, C4, and C5, 122.0 ul\n"
     ]
    }
   ],
   "source": [
    "V_SAFE = 50\n",
    "\n",
    "v_rxn = v_b + v_removed    # time 0 sample\n",
    "v_dye = v_s / 3 * n_steps_s + V_SAFE\n",
    "v_wat = v_hydrate * sum(range(1, n_steps_s)) + V_SAFE\n",
    "# actually water tube is 1 ml, without oil, and refilled every day\n",
    "# water costs nothing...\n",
    "v_stock = v_growth / 3 * n_steps_growth + V_SAFE\n",
    "\n",
    "print(f\"Reaction tube at A1, {v_rxn:.1f} ul\")\n",
    "print(f\"Dye tube at A3, {v_dye:.1f} ul\")\n",
    "print(f\"Water tube at A5, {v_wat:.1f} ul\")\n",
    "print(f\"Stock protein tube at C3, C4, and C5, {v_stock:.1f} ul\")"
   ]
  },
  {
   "cell_type": "markdown",
   "metadata": {},
   "source": [
    "<div class=\"alert alert-warning\">\n",
    "    <h2>STOP!</h2>\n",
    "    Before you proceed, please check:<br />\n",
    "    Have you placed the required labware?<br />\n",
    "    Have you put the right volume of liquid in required position?\n",
    "</div>"
   ]
  },
  {
   "cell_type": "code",
   "execution_count": 14,
   "metadata": {},
   "outputs": [
    {
     "name": "stderr",
     "output_type": "stream",
     "text": [
      "Out of bounds move: X=(418.00000000000006 motor controller, 416.9673140124148 deck) too high for limit 418.0\n",
      "alarm/error outside hard halt: ALARM: Hard limit +Z\n",
      "alarm/error: command=M907 A0.1 B0.05 C0.05 X0.3 Y0.3 Z0.8 G4 P0.005 G0 Z150.17 \n",
      "\n",
      ", resp=ALARM: Hard limit +Z\n",
      "Move failed\n",
      "Traceback (most recent call last):\n",
      "  File \"usr/lib/python3.7/site-packages/opentrons/drivers/smoothie_drivers/driver_3_0.py\", line 900, in _send_command_unsynchronized\n",
      "  File \"usr/lib/python3.7/site-packages/opentrons/drivers/asyncio/communication/serial_connection.py\", line 119, in send_command\n",
      "  File \"usr/lib/python3.7/site-packages/opentrons/drivers/asyncio/communication/serial_connection.py\", line 140, in send_data\n",
      "  File \"usr/lib/python3.7/site-packages/opentrons/drivers/asyncio/communication/serial_connection.py\", line 169, in _send_data\n",
      "  File \"usr/lib/python3.7/site-packages/opentrons/drivers/asyncio/communication/serial_connection.py\", line 212, in raise_on_error\n",
      "opentrons.drivers.asyncio.communication.errors.AlarmResponse: /dev/ttyAMA0: 'Received error response 'ALARM: Hard limit +Z'\n",
      "\n",
      "During handling of the above exception, another exception occurred:\n",
      "\n",
      "Traceback (most recent call last):\n",
      "  File \"usr/lib/python3.7/site-packages/opentrons/drivers/smoothie_drivers/driver_3_0.py\", line 867, in _send_command\n",
      "  File \"usr/lib/python3.7/site-packages/opentrons/drivers/smoothie_drivers/driver_3_0.py\", line 903, in _send_command_unsynchronized\n",
      "  File \"usr/lib/python3.7/site-packages/opentrons/drivers/smoothie_drivers/driver_3_0.py\", line 946, in _handle_return\n",
      "opentrons.drivers.smoothie_drivers.errors.SmoothieError: SmoothieError: None returned ALARM: Hard limit +Z\n",
      "\n",
      "During handling of the above exception, another exception occurred:\n",
      "\n",
      "Traceback (most recent call last):\n",
      "  File \"usr/lib/python3.7/site-packages/opentrons/hardware_control/api.py\", line 1290, in _move\n",
      "  File \"usr/lib/python3.7/site-packages/opentrons/hardware_control/controller.py\", line 143, in move\n",
      "  File \"usr/lib/python3.7/site-packages/opentrons/drivers/smoothie_drivers/driver_3_0.py\", line 1395, in move\n",
      "  File \"usr/lib/python3.7/site-packages/opentrons/drivers/smoothie_drivers/driver_3_0.py\", line 885, in _send_command\n",
      "opentrons.drivers.smoothie_drivers.errors.SmoothieError: SmoothieError: M907 A0.1 B0.05 C0.05 X0.3 Y0.3 Z0.8 G4 P0.005 G0 Z150.17 \n",
      "\n",
      " returned ALARM: Hard limit +Z\n"
     ]
    },
    {
     "ename": "SmoothieError",
     "evalue": "SmoothieError: M907 A0.1 B0.05 C0.05 X0.3 Y0.3 Z0.8 G4 P0.005 G0 Z150.17 \r\n\r\n returned ALARM: Hard limit +Z",
     "output_type": "error",
     "traceback": [
      "\u001b[0;31m---------------------------------------------------------------------------\u001b[0m",
      "\u001b[0;31mAlarmResponse\u001b[0m                             Traceback (most recent call last)",
      "\u001b[0;32m/usr/lib/python3.7/site-packages/opentrons/drivers/smoothie_drivers/driver_3_0.pyc\u001b[0m in \u001b[0;36m_send_command_unsynchronized\u001b[0;34m(self, command, ack_timeout, execute_timeout)\u001b[0m\n",
      "\u001b[0;32m/usr/lib/python3.7/site-packages/opentrons/drivers/asyncio/communication/serial_connection.pyc\u001b[0m in \u001b[0;36msend_command\u001b[0;34m(self, command, retries, timeout)\u001b[0m\n",
      "\u001b[0;32m/usr/lib/python3.7/site-packages/opentrons/drivers/asyncio/communication/serial_connection.pyc\u001b[0m in \u001b[0;36msend_data\u001b[0;34m(self, data, retries, timeout)\u001b[0m\n",
      "\u001b[0;32m/usr/lib/python3.7/site-packages/opentrons/drivers/asyncio/communication/serial_connection.pyc\u001b[0m in \u001b[0;36m_send_data\u001b[0;34m(self, data, retries)\u001b[0m\n",
      "\u001b[0;32m/usr/lib/python3.7/site-packages/opentrons/drivers/asyncio/communication/serial_connection.pyc\u001b[0m in \u001b[0;36mraise_on_error\u001b[0;34m(self, response)\u001b[0m\n",
      "\u001b[0;31mAlarmResponse\u001b[0m: /dev/ttyAMA0: 'Received error response 'ALARM: Hard limit +Z'",
      "\nDuring handling of the above exception, another exception occurred:\n",
      "\u001b[0;31mSmoothieError\u001b[0m                             Traceback (most recent call last)",
      "\u001b[0;32m/usr/lib/python3.7/site-packages/opentrons/drivers/smoothie_drivers/driver_3_0.pyc\u001b[0m in \u001b[0;36m_send_command\u001b[0;34m(self, command, timeout, suppress_error_msg, ack_timeout, suppress_home_after_error)\u001b[0m\n",
      "\u001b[0;32m/usr/lib/python3.7/site-packages/opentrons/drivers/smoothie_drivers/driver_3_0.pyc\u001b[0m in \u001b[0;36m_send_command_unsynchronized\u001b[0;34m(self, command, ack_timeout, execute_timeout)\u001b[0m\n",
      "\u001b[0;32m/usr/lib/python3.7/site-packages/opentrons/drivers/smoothie_drivers/driver_3_0.pyc\u001b[0m in \u001b[0;36m_handle_return\u001b[0;34m(self, ret_code, is_alarm, is_error)\u001b[0m\n",
      "\u001b[0;31mSmoothieError\u001b[0m: SmoothieError: None returned ALARM: Hard limit +Z",
      "\nDuring handling of the above exception, another exception occurred:\n",
      "\u001b[0;31mSmoothieError\u001b[0m                             Traceback (most recent call last)",
      "\u001b[0;32m<ipython-input-14-e25ff692a248>\u001b[0m in \u001b[0;36m<module>\u001b[0;34m()\u001b[0m\n\u001b[1;32m      1\u001b[0m \u001b[0mlog_fn\u001b[0m \u001b[0;34m=\u001b[0m \u001b[0;34m\"log/20220819_simulated_growth.log\"\u001b[0m\u001b[0;34m\u001b[0m\u001b[0;34m\u001b[0m\u001b[0m\n\u001b[0;32m----> 2\u001b[0;31m \u001b[0mscheduler\u001b[0m\u001b[0;34m.\u001b[0m\u001b[0mrun\u001b[0m\u001b[0;34m(\u001b[0m\u001b[0mprotocol\u001b[0m\u001b[0;34m,\u001b[0m \u001b[0mlog_fn\u001b[0m\u001b[0;34m)\u001b[0m\u001b[0;34m\u001b[0m\u001b[0;34m\u001b[0m\u001b[0m\n\u001b[0m",
      "\u001b[0;32m/var/lib/jupyter/notebooks/src/scheduler.py\u001b[0m in \u001b[0;36mrun\u001b[0;34m(protocol, log_fn)\u001b[0m\n\u001b[1;32m    103\u001b[0m         \u001b[0;32mfor\u001b[0m \u001b[0mi\u001b[0m \u001b[0;32min\u001b[0m \u001b[0mrange\u001b[0m\u001b[0;34m(\u001b[0m\u001b[0mlen\u001b[0m\u001b[0;34m(\u001b[0m\u001b[0m_time_vec\u001b[0m\u001b[0;34m)\u001b[0m\u001b[0;34m)\u001b[0m\u001b[0;34m:\u001b[0m\u001b[0;34m\u001b[0m\u001b[0;34m\u001b[0m\u001b[0m\n\u001b[1;32m    104\u001b[0m             \u001b[0;32mif\u001b[0m \u001b[0m_time_vec\u001b[0m\u001b[0;34m[\u001b[0m\u001b[0mi\u001b[0m\u001b[0;34m]\u001b[0m \u001b[0;34m*\u001b[0m \u001b[0;36m60\u001b[0m \u001b[0;34m<\u001b[0m \u001b[0melapsed\u001b[0m \u001b[0;32mand\u001b[0m \u001b[0mis_excuted_vec\u001b[0m\u001b[0;34m[\u001b[0m\u001b[0mi\u001b[0m\u001b[0;34m]\u001b[0m \u001b[0;34m==\u001b[0m \u001b[0;36m0\u001b[0m\u001b[0;34m:\u001b[0m\u001b[0;34m\u001b[0m\u001b[0;34m\u001b[0m\u001b[0m\n\u001b[0;32m--> 105\u001b[0;31m                 \u001b[0m_func_vec\u001b[0m\u001b[0;34m[\u001b[0m\u001b[0mi\u001b[0m\u001b[0;34m]\u001b[0m\u001b[0;34m(\u001b[0m\u001b[0;34m*\u001b[0m\u001b[0m_param_vec\u001b[0m\u001b[0;34m[\u001b[0m\u001b[0mi\u001b[0m\u001b[0;34m]\u001b[0m\u001b[0;34m)\u001b[0m    \u001b[0;31m# call the function\u001b[0m\u001b[0;34m\u001b[0m\u001b[0;34m\u001b[0m\u001b[0m\n\u001b[0m\u001b[1;32m    106\u001b[0m \u001b[0;34m\u001b[0m\u001b[0m\n\u001b[1;32m    107\u001b[0m                 \u001b[0;31m# log\u001b[0m\u001b[0;34m\u001b[0m\u001b[0;34m\u001b[0m\u001b[0;34m\u001b[0m\u001b[0m\n",
      "\u001b[0;32m<ipython-input-10-07bf19bef0df>\u001b[0m in \u001b[0;36mgrow\u001b[0;34m(v_g)\u001b[0m\n\u001b[1;32m     46\u001b[0m     \u001b[0mtransfer_viscous\u001b[0m\u001b[0;34m(\u001b[0m\u001b[0mpipette\u001b[0m\u001b[0;34m,\u001b[0m \u001b[0mprotocol\u001b[0m\u001b[0;34m,\u001b[0m \u001b[0mv_g_per_tube\u001b[0m\u001b[0;34m,\u001b[0m \u001b[0mU_TUBE\u001b[0m\u001b[0;34m,\u001b[0m \u001b[0mRXN_TUBE\u001b[0m\u001b[0;34m,\u001b[0m \u001b[0mif_mix\u001b[0m\u001b[0;34m=\u001b[0m\u001b[0;32mTrue\u001b[0m\u001b[0;34m,\u001b[0m \u001b[0mif_blowout\u001b[0m\u001b[0;34m=\u001b[0m\u001b[0;32mFalse\u001b[0m\u001b[0;34m)\u001b[0m\u001b[0;34m\u001b[0m\u001b[0;34m\u001b[0m\u001b[0m\n\u001b[1;32m     47\u001b[0m     \u001b[0mtransfer_viscous\u001b[0m\u001b[0;34m(\u001b[0m\u001b[0mpipette\u001b[0m\u001b[0;34m,\u001b[0m \u001b[0mprotocol\u001b[0m\u001b[0;34m,\u001b[0m \u001b[0mv_g_per_tube\u001b[0m\u001b[0;34m,\u001b[0m \u001b[0mA_TUBE\u001b[0m\u001b[0;34m,\u001b[0m \u001b[0mRXN_TUBE\u001b[0m\u001b[0;34m,\u001b[0m \u001b[0mif_mix\u001b[0m\u001b[0;34m=\u001b[0m\u001b[0;32mTrue\u001b[0m\u001b[0;34m,\u001b[0m \u001b[0mif_blowout\u001b[0m\u001b[0;34m=\u001b[0m\u001b[0;32mFalse\u001b[0m\u001b[0;34m)\u001b[0m\u001b[0;34m\u001b[0m\u001b[0;34m\u001b[0m\u001b[0m\n\u001b[0;32m---> 48\u001b[0;31m     \u001b[0mtransfer_viscous\u001b[0m\u001b[0;34m(\u001b[0m\u001b[0mpipette\u001b[0m\u001b[0;34m,\u001b[0m \u001b[0mprotocol\u001b[0m\u001b[0;34m,\u001b[0m \u001b[0mv_g_per_tube\u001b[0m\u001b[0;34m,\u001b[0m \u001b[0mB_TUBE\u001b[0m\u001b[0;34m,\u001b[0m \u001b[0mRXN_TUBE\u001b[0m\u001b[0;34m,\u001b[0m \u001b[0mif_mix\u001b[0m\u001b[0;34m=\u001b[0m\u001b[0;32mTrue\u001b[0m\u001b[0;34m,\u001b[0m \u001b[0mif_blowout\u001b[0m\u001b[0;34m=\u001b[0m\u001b[0;32mFalse\u001b[0m\u001b[0;34m)\u001b[0m\u001b[0;34m\u001b[0m\u001b[0;34m\u001b[0m\u001b[0m\n\u001b[0m\u001b[1;32m     49\u001b[0m     \u001b[0;31m# it's also okay to mix KaiA and KaiB in one tube, then all conc are 2x\u001b[0m\u001b[0;34m\u001b[0m\u001b[0;34m\u001b[0m\u001b[0;34m\u001b[0m\u001b[0m\n\u001b[1;32m     50\u001b[0m \u001b[0;34m\u001b[0m\u001b[0m\n",
      "\u001b[0;32m/var/lib/jupyter/notebooks/src/pipette_viscous.py\u001b[0m in \u001b[0;36mtransfer_viscous\u001b[0;34m(pipette, protocol, vol, from_well, to_well, if_touch_tip, if_mix, if_blowout)\u001b[0m\n\u001b[1;32m    127\u001b[0m \u001b[0;34m\u001b[0m\u001b[0m\n\u001b[1;32m    128\u001b[0m     \u001b[0maspirate_viscous\u001b[0m\u001b[0;34m(\u001b[0m\u001b[0mpipette\u001b[0m\u001b[0;34m,\u001b[0m \u001b[0mprotocol\u001b[0m\u001b[0;34m,\u001b[0m \u001b[0mvol\u001b[0m\u001b[0;34m,\u001b[0m \u001b[0mfrom_well\u001b[0m\u001b[0;34m,\u001b[0m \u001b[0mif_touch_tip\u001b[0m\u001b[0;34m=\u001b[0m\u001b[0mif_touch_tip\u001b[0m\u001b[0;34m)\u001b[0m\u001b[0;34m\u001b[0m\u001b[0;34m\u001b[0m\u001b[0m\n\u001b[0;32m--> 129\u001b[0;31m     \u001b[0mdispense_viscous\u001b[0m\u001b[0;34m(\u001b[0m\u001b[0mpipette\u001b[0m\u001b[0;34m,\u001b[0m \u001b[0mprotocol\u001b[0m\u001b[0;34m,\u001b[0m \u001b[0mvol\u001b[0m\u001b[0;34m,\u001b[0m \u001b[0mto_well\u001b[0m\u001b[0;34m,\u001b[0m \u001b[0mif_mix\u001b[0m\u001b[0;34m=\u001b[0m\u001b[0mif_mix\u001b[0m\u001b[0;34m,\u001b[0m \u001b[0mif_blowout\u001b[0m\u001b[0;34m=\u001b[0m\u001b[0mif_blowout\u001b[0m\u001b[0;34m)\u001b[0m\u001b[0;34m\u001b[0m\u001b[0;34m\u001b[0m\u001b[0m\n\u001b[0m\u001b[1;32m    130\u001b[0m \u001b[0;34m\u001b[0m\u001b[0m\n\u001b[1;32m    131\u001b[0m \u001b[0;34m\u001b[0m\u001b[0m\n",
      "\u001b[0;32m/var/lib/jupyter/notebooks/src/pipette_viscous.py\u001b[0m in \u001b[0;36mdispense_viscous\u001b[0;34m(pipette, protocol, vol, well, rate, delay, blowout_rate, entry_speed, with_speed, disp_height, if_mix, if_blowout)\u001b[0m\n\u001b[1;32m     91\u001b[0m     \"\"\"\n\u001b[1;32m     92\u001b[0m \u001b[0;34m\u001b[0m\u001b[0m\n\u001b[0;32m---> 93\u001b[0;31m     \u001b[0mpipette\u001b[0m\u001b[0;34m.\u001b[0m\u001b[0mmove_to\u001b[0m\u001b[0;34m(\u001b[0m\u001b[0mwell\u001b[0m\u001b[0;34m.\u001b[0m\u001b[0mtop\u001b[0m\u001b[0;34m(\u001b[0m\u001b[0;34m)\u001b[0m\u001b[0;34m)\u001b[0m\u001b[0;34m\u001b[0m\u001b[0;34m\u001b[0m\u001b[0m\n\u001b[0m\u001b[1;32m     94\u001b[0m \u001b[0;34m\u001b[0m\u001b[0m\n\u001b[1;32m     95\u001b[0m     \u001b[0;31m# move slowly to the bottom of the well/tube\u001b[0m\u001b[0;34m\u001b[0m\u001b[0;34m\u001b[0m\u001b[0;34m\u001b[0m\u001b[0m\n",
      "\u001b[0;32m/usr/lib/python3.7/site-packages/opentrons/protocols/api_support/util.pyc\u001b[0m in \u001b[0;36m_check_version_wrapper\u001b[0;34m(*args, **kwargs)\u001b[0m\n",
      "\u001b[0;32m/usr/lib/python3.7/site-packages/opentrons/protocol_api/instrument_context.pyc\u001b[0m in \u001b[0;36mmove_to\u001b[0;34m(self, location, force_direct, minimum_z_height, speed, publish)\u001b[0m\n",
      "\u001b[0;32m/usr/lib/python3.7/site-packages/opentrons/protocols/context/protocol_api/instrument_context.pyc\u001b[0m in \u001b[0;36mmove_to\u001b[0;34m(self, location, force_direct, minimum_z_height, speed)\u001b[0m\n",
      "\u001b[0;32m/usr/lib/python3.7/site-packages/opentrons/hardware_control/adapters.pyc\u001b[0m in \u001b[0;36mcall_coroutine_sync\u001b[0;34m(loop, to_call, *args, **kwargs)\u001b[0m\n",
      "\u001b[0;32m/usr/lib/python3.7/concurrent/futures/_base.pyc\u001b[0m in \u001b[0;36mresult\u001b[0;34m(self, timeout)\u001b[0m\n",
      "\u001b[0;32m/usr/lib/python3.7/concurrent/futures/_base.pyc\u001b[0m in \u001b[0;36m__get_result\u001b[0;34m(self)\u001b[0m\n",
      "\u001b[0;32m/usr/lib/python3.7/site-packages/opentrons/hardware_control/api.pyc\u001b[0m in \u001b[0;36mmove_to\u001b[0;34m(self, mount, abs_position, speed, critical_point, max_speeds)\u001b[0m\n",
      "\u001b[0;32m/usr/lib/python3.7/site-packages/opentrons/hardware_control/api.pyc\u001b[0m in \u001b[0;36m_move\u001b[0;34m(self, target_position, speed, home_flagged_axes, max_speeds, acquire_lock, secondary_z, check_bounds)\u001b[0m\n",
      "\u001b[0;32m/usr/lib/python3.7/site-packages/opentrons/hardware_control/controller.pyc\u001b[0m in \u001b[0;36mmove\u001b[0;34m(self, target_position, home_flagged_axes, speed, axis_max_speeds)\u001b[0m\n",
      "\u001b[0;32m/usr/lib/python3.7/site-packages/opentrons/drivers/smoothie_drivers/driver_3_0.pyc\u001b[0m in \u001b[0;36mmove\u001b[0;34m(self, target, home_flagged_axes, speed)\u001b[0m\n",
      "\u001b[0;32m/usr/lib/python3.7/site-packages/opentrons/drivers/smoothie_drivers/driver_3_0.pyc\u001b[0m in \u001b[0;36m_send_command\u001b[0;34m(self, command, timeout, suppress_error_msg, ack_timeout, suppress_home_after_error)\u001b[0m\n",
      "\u001b[0;31mSmoothieError\u001b[0m: SmoothieError: M907 A0.1 B0.05 C0.05 X0.3 Y0.3 Z0.8 G4 P0.005 G0 Z150.17 \r\n\r\n returned ALARM: Hard limit +Z"
     ]
    }
   ],
   "source": [
    "log_fn = \"log/20220819_simulated_growth.log\"\n",
    "scheduler.run(protocol, log_fn)"
   ]
  }
 ],
 "metadata": {
  "kernelspec": {
   "display_name": "Python 3",
   "language": "python",
   "name": "python3"
  },
  "language_info": {
   "codemirror_mode": {
    "name": "ipython",
    "version": 3
   },
   "file_extension": ".py",
   "mimetype": "text/x-python",
   "name": "python",
   "nbconvert_exporter": "python",
   "pygments_lexer": "ipython3",
   "version": "3.7.1"
  }
 },
 "nbformat": 4,
 "nbformat_minor": 2
}
