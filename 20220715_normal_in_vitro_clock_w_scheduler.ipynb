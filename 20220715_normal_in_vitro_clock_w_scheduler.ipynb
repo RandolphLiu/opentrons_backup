{
 "cells": [
  {
   "cell_type": "markdown",
   "metadata": {},
   "source": [
    "# Normal in vitro clock\n",
    "\n",
    "The circadian clock of cyanobacteria *Synechococcus elongatus PCC 7942* can be reconstructed *in vitro*.\n",
    "This protocol samples such an *in vitro* clock with uniform time intervals.\n",
    "\n",
    "## Initialize the protocol"
   ]
  },
  {
   "cell_type": "code",
   "execution_count": 1,
   "metadata": {},
   "outputs": [],
   "source": [
    "# current working dir is /var/lib/jupyter/notebooks\n",
    "import opentrons.execute\n",
    "from opentrons import protocol_api\n",
    "import numpy as np\n",
    "from src.pipette_viscous import transfer_viscous,aspirate_viscous, dispense_viscous, calibrated_viscous\n",
    "import src.scheduler as scheduler\n",
    "from src.evap_standard_curve import *\n",
    "import time\n",
    "\n",
    "# start the protocol context\n",
    "protocol = opentrons.execute.get_protocol_api(\"2.13\")\n",
    "\n",
    "# home is required\n",
    "protocol.set_rail_lights(False)\n",
    "protocol.home()"
   ]
  },
  {
   "cell_type": "markdown",
   "metadata": {},
   "source": [
    "## Load labware\n",
    "\n",
    "- The incubator is on slot 11\n",
    "- The alluminum rack is mounted to the incubator\n",
    "- The GEB tip racks are on slot 7, 8, and 9\n",
    "- The Bio-rad PCR plate is on slot 5\n",
    "- The P10 1st gen pipette is on the left"
   ]
  },
  {
   "cell_type": "code",
   "execution_count": 2,
   "metadata": {},
   "outputs": [],
   "source": [
    "incubator = protocol.load_module(\"temperature module\", 11)\n",
    "\n",
    "rack = incubator.load_labware(\"eppendorf_24_aluminumblock_1500ul\")    # the rack is mounted upon the temp. module (don't specify slot)\n",
    "\n",
    "tip_rack_1 = protocol.load_labware(\"geb_taller_96_tiprack_10ul\", '7')\n",
    "tip_rack_2 = protocol.load_labware(\"geb_taller_96_tiprack_10ul\", '8')\n",
    "tip_rack_3 = protocol.load_labware(\"geb_taller_96_tiprack_10ul\", '9')\n",
    "\n",
    "plate = protocol.load_labware(\"biorad_96_wellplate_200ul_pcr\", '5')\n",
    "\n",
    "pipette = protocol.load_instrument(\"p10_single\", \"left\", \n",
    "                                   tip_racks = [tip_rack_1, tip_rack_2, tip_rack_3])"
   ]
  },
  {
   "cell_type": "markdown",
   "metadata": {},
   "source": [
    "## Sampling and liquid settings\n"
   ]
  },
  {
   "cell_type": "code",
   "execution_count": 3,
   "metadata": {},
   "outputs": [
    {
     "name": "stdout",
     "output_type": "stream",
     "text": [
      "Volume of water adding to sample is 6.1 ul\n"
     ]
    }
   ],
   "source": [
    "SAMPLE_INT = 4 * 60    # time interval in minutes\n",
    "SAMPLE_STEPS = 18    # plus the initial sampling, in total sample SAMPLE_STEPS + 1 times\n",
    "SAMPLE_VOL = 9    # ul, volume per sample\n",
    "SAMPLE_OFFSET = 0    # define the starting well\n",
    "HYDRATE_INT = 4 * 60    # time interval to re-hydrate the samples to avoid drying down\n",
    "HYDRATE_VOL = evap_vol_4h(SAMPLE_VOL * 4 / 3)    # 5.1\n",
    "\n",
    "RXN_TUBE = rack.wells_by_name()[\"A1\"]\n",
    "DYE_TUBE = rack.wells_by_name()[\"A3\"]\n",
    "WAT_TUBE = rack.wells_by_name()[\"A5\"]\n",
    "\n",
    "print(f\"Volume of water adding to sample is {HYDRATE_VOL} ul\")"
   ]
  },
  {
   "cell_type": "markdown",
   "metadata": {},
   "source": [
    "The below cell calculates minimal volume in each tube (overlay ~60 ul mineral oil on the reaction solution and ~40 ul on the dye)"
   ]
  },
  {
   "cell_type": "code",
   "execution_count": 4,
   "metadata": {},
   "outputs": [
    {
     "name": "stdout",
     "output_type": "stream",
     "text": [
      "Reaction tube at A1, 201 ul\n",
      "Dye tube at A3, 87 ul\n",
      "Water tube at A5, 1073 ul\n"
     ]
    }
   ],
   "source": [
    "rxn_vol = SAMPLE_VOL * (SAMPLE_STEPS + 1) + 30\n",
    "dye_vol = SAMPLE_VOL / 3 * (SAMPLE_STEPS + 1) + 30\n",
    "per_sampling = int(SAMPLE_INT / HYDRATE_INT)\n",
    "wat_vol = sum(range(1, SAMPLE_STEPS + 1)) * per_sampling * HYDRATE_VOL + 30\n",
    "\n",
    "dye_vol = int(np.floor(dye_vol))\n",
    "wat_vol = int(np.floor(wat_vol))\n",
    "\n",
    "print(f\"Reaction tube at A1, {rxn_vol} ul\")\n",
    "print(f\"Dye tube at A3, {dye_vol} ul\")\n",
    "print(f\"Water tube at A5, {wat_vol} ul\")"
   ]
  },
  {
   "cell_type": "markdown",
   "metadata": {},
   "source": [
    "<div class=\"alert alert-warning\">\n",
    "    <h2>STOP!</h2>\n",
    "    Before you proceed, please check:<br />\n",
    "    Have you placed the required labware?<br />\n",
    "    Have you put the right volume of liquid in required position?\n",
    "</div>"
   ]
  },
  {
   "cell_type": "markdown",
   "metadata": {},
   "source": [
    "## Instructions"
   ]
  },
  {
   "cell_type": "code",
   "execution_count": 5,
   "metadata": {
    "scrolled": false
   },
   "outputs": [],
   "source": [
    "def sample(idx):\n",
    "    \"Sampling the in vitro clock and seal with oil\"\n",
    "\n",
    "    # current well\n",
    "    cur_well = plate.wells()[idx + SAMPLE_OFFSET]\n",
    "\n",
    "    # pipette the dye\n",
    "    transfer_viscous(pipette, protocol, calibrated_viscous(SAMPLE_VOL / 3), DYE_TUBE, cur_well)\n",
    "\n",
    "    # pipette the sample\n",
    "    aspirate_viscous(pipette, protocol, calibrated_viscous(SAMPLE_VOL), RXN_TUBE, asp_height=2)\n",
    "    dispense_viscous(pipette, protocol, calibrated_viscous(SAMPLE_VOL), cur_well, if_mix=True, if_blowout=True)\n",
    "\n",
    "def rehydrate(idx):\n",
    "    \"to prevent drying down\"\n",
    "    \n",
    "    for i in range(idx):\n",
    "        cur_well = plate.wells()[i + SAMPLE_OFFSET]\n",
    "        \n",
    "        pipette.pick_up_tip()\n",
    "        pipette.aspirate(calibrated_viscous(HYDRATE_VOL), WAT_TUBE)    # just water, no oil\n",
    "        dispense_viscous(pipette, protocol, calibrated_viscous(HYDRATE_VOL), cur_well, if_mix=True, if_blowout=True)"
   ]
  },
  {
   "cell_type": "markdown",
   "metadata": {},
   "source": [
    "## Running"
   ]
  },
  {
   "cell_type": "code",
   "execution_count": 6,
   "metadata": {},
   "outputs": [],
   "source": [
    "incubator.set_temperature(30)    # in celcius"
   ]
  },
  {
   "cell_type": "code",
   "execution_count": 7,
   "metadata": {},
   "outputs": [
    {
     "name": "stdout",
     "output_type": "stream",
     "text": [
      "A total of 209 tips is required\n",
      "\n",
      "At 0.00 hours, Sample and mix with loading buffer, with params (0,)\n",
      "At 4.00 hours, Sample and mix with loading buffer, with params (1,)\n",
      "At 8.00 hours, Sample and mix with loading buffer, with params (2,)\n",
      "At 12.00 hours, Sample and mix with loading buffer, with params (3,)\n",
      "At 16.00 hours, Sample and mix with loading buffer, with params (4,)\n",
      "At 20.00 hours, Sample and mix with loading buffer, with params (5,)\n",
      "At 24.00 hours, Sample and mix with loading buffer, with params (6,)\n",
      "At 28.00 hours, Sample and mix with loading buffer, with params (7,)\n",
      "At 32.00 hours, Sample and mix with loading buffer, with params (8,)\n",
      "At 36.00 hours, Sample and mix with loading buffer, with params (9,)\n",
      "At 40.00 hours, Sample and mix with loading buffer, with params (10,)\n",
      "At 44.00 hours, Sample and mix with loading buffer, with params (11,)\n",
      "At 48.00 hours, Sample and mix with loading buffer, with params (12,)\n",
      "At 52.00 hours, Sample and mix with loading buffer, with params (13,)\n",
      "At 56.00 hours, Sample and mix with loading buffer, with params (14,)\n",
      "At 60.00 hours, Sample and mix with loading buffer, with params (15,)\n",
      "At 64.00 hours, Sample and mix with loading buffer, with params (16,)\n",
      "At 68.00 hours, Sample and mix with loading buffer, with params (17,)\n",
      "At 72.00 hours, Sample and mix with loading buffer, with params (18,)\n",
      "At 4.00 hours, Rehydrating to prevent drying down, with params (1,)\n",
      "At 8.00 hours, Rehydrating to prevent drying down, with params (2,)\n",
      "At 12.00 hours, Rehydrating to prevent drying down, with params (3,)\n",
      "At 16.00 hours, Rehydrating to prevent drying down, with params (4,)\n",
      "At 20.00 hours, Rehydrating to prevent drying down, with params (5,)\n",
      "At 24.00 hours, Rehydrating to prevent drying down, with params (6,)\n",
      "At 28.00 hours, Rehydrating to prevent drying down, with params (7,)\n",
      "At 32.00 hours, Rehydrating to prevent drying down, with params (8,)\n",
      "At 36.00 hours, Rehydrating to prevent drying down, with params (9,)\n",
      "At 40.00 hours, Rehydrating to prevent drying down, with params (10,)\n",
      "At 44.00 hours, Rehydrating to prevent drying down, with params (11,)\n",
      "At 48.00 hours, Rehydrating to prevent drying down, with params (12,)\n",
      "At 52.00 hours, Rehydrating to prevent drying down, with params (13,)\n",
      "At 56.00 hours, Rehydrating to prevent drying down, with params (14,)\n",
      "At 60.00 hours, Rehydrating to prevent drying down, with params (15,)\n",
      "At 64.00 hours, Rehydrating to prevent drying down, with params (16,)\n",
      "At 68.00 hours, Rehydrating to prevent drying down, with params (17,)\n",
      "At 72.00 hours, Rehydrating to prevent drying down, with params (18,)\n"
     ]
    }
   ],
   "source": [
    "# make the lists of instructions\n",
    "\n",
    "scheduler.drop()\n",
    "\n",
    "# sampling\n",
    "time_vec = np.arange(SAMPLE_STEPS + 1) * SAMPLE_INT\n",
    "func_vec = [sample] * (SAMPLE_STEPS + 1)\n",
    "param_vec = [ (i,) for i in range(SAMPLE_STEPS + 1) ]\n",
    "str_vec = [\"Sample and mix with loading buffer\"] * (SAMPLE_STEPS + 1)\n",
    "n_tip_vec = [2] * (SAMPLE_STEPS + 1)\n",
    "# register\n",
    "scheduler.cat(time_vec, func_vec, param_vec, str_vec, n_tip_vec)\n",
    "\n",
    "# rehydrating\n",
    "# how many rehydration steps are taken per sampling step?\n",
    "hydrate_steps = SAMPLE_STEPS\n",
    "time_vec = (np.arange(hydrate_steps) + 1) * HYDRATE_INT\n",
    "func_vec = [rehydrate] * hydrate_steps\n",
    "param_vec = [ (i,) for i in np.arange(hydrate_steps) + 1 ]\n",
    "str_vec = [\"Rehydrating to prevent drying down\"] * hydrate_steps\n",
    "n_tip_vec = np.arange(hydrate_steps) + 1\n",
    "# register\n",
    "scheduler.cat(time_vec, func_vec, param_vec, str_vec, n_tip_vec)\n",
    "\n",
    "# show\n",
    "scheduler.report(unit=\"hours\")"
   ]
  },
  {
   "cell_type": "code",
   "execution_count": null,
   "metadata": {},
   "outputs": [],
   "source": [
    "# running\n",
    "log_fn = \"log/20230620_ivo_no_growth.log\"\n",
    "scheduler.run(protocol, log_fn)"
   ]
  }
 ],
 "metadata": {
  "kernelspec": {
   "display_name": "Python 3",
   "language": "python",
   "name": "python3"
  },
  "language_info": {
   "codemirror_mode": {
    "name": "ipython",
    "version": 3
   },
   "file_extension": ".py",
   "mimetype": "text/x-python",
   "name": "python",
   "nbconvert_exporter": "python",
   "pygments_lexer": "ipython3",
   "version": "3.7.1"
  }
 },
 "nbformat": 4,
 "nbformat_minor": 2
}
