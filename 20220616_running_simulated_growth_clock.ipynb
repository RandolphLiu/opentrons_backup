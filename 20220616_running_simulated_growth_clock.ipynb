{
 "cells": [
  {
   "cell_type": "markdown",
   "metadata": {},
   "source": [
    "# In vitro clock under simulated growth\n",
    "\n",
    "Cyaobacteria maintain a robust 24 hour clock, which can be reconstructed in vitro with and only with\n",
    "three proteins KaiABC, and added ATP as an energy source.\n",
    "\n",
    "All cellular components, including KaiABC, are continuously diluted during the growth/division of the cell.\n",
    "It is unclear whether the clock is robust to cell division at all, and if so, how much growth can be\n",
    "tolerated, and what the nature of the robustness is.\n",
    "\n",
    "Here is the robot protocol to simulate the growth condition in a tube of clock reaction."
   ]
  },
  {
   "cell_type": "code",
   "execution_count": null,
   "metadata": {},
   "outputs": [],
   "source": []
  }
 ],
 "metadata": {
  "kernelspec": {
   "display_name": "Python 3",
   "language": "python",
   "name": "python3"
  },
  "language_info": {
   "codemirror_mode": {
    "name": "ipython",
    "version": 3
   },
   "file_extension": ".py",
   "mimetype": "text/x-python",
   "name": "python",
   "nbconvert_exporter": "python",
   "pygments_lexer": "ipython3",
   "version": "3.7.1"
  }
 },
 "nbformat": 4,
 "nbformat_minor": 2
}
