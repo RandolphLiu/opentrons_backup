{
 "cells": [
  {
   "cell_type": "code",
   "execution_count": 15,
   "metadata": {},
   "outputs": [],
   "source": [
    "# current working dir is /var/lib/jupyter/notebooks\n",
    "import numpy as np\n",
    "import opentrons.execute\n",
    "from opentrons import protocol_api\n",
    "from src.pipette_viscous import transfer_viscous,aspirate_viscous, dispense_viscous\n",
    "import src.scheduler as scheduler\n",
    "from src.evap_standard_curve import *\n",
    "\n",
    "# start the protocol context\n",
    "protocol = opentrons.execute.get_protocol_api(\"2.11\")\n",
    "\n",
    "# home is required\n",
    "protocol.set_rail_lights(False)\n",
    "protocol.home()"
   ]
  },
  {
   "cell_type": "code",
   "execution_count": 2,
   "metadata": {},
   "outputs": [],
   "source": [
    "incubator = protocol.load_module(\"temperature module\", 11)\n",
    "\n",
    "rack = incubator.load_labware(\"opentrons_24_aluminumblock_fisher_1.5ml_centrifuge\")    # the rack is mounted upon the temp. module (don't specify slot)\n",
    "\n",
    "tip_rack_1 = protocol.load_labware(\"geb_taller_96_tiprack_10ul\", '8')    # will consume 380 tips in total, about 4 boxes\n",
    "\n",
    "plate = protocol.load_labware(\"biorad_96_wellplate_200ul_pcr\", '3')\n",
    "\n",
    "pipette = protocol.load_instrument(\"p10_single\", \"left\", tip_racks = [tip_rack_1])"
   ]
  },
  {
   "cell_type": "code",
   "execution_count": 11,
   "metadata": {},
   "outputs": [],
   "source": [
    "RXN_TUBE_1 = rack.wells_by_name()['A1']\n",
    "RXN_TUBE_2 = rack.wells_by_name()['B1']\n",
    "RXN_TUBE_3 = rack.wells_by_name()['C1']\n",
    "# DIS_TUBE = rack.wells_by_name()['C1']\n",
    "FROM_TUBE = rack.wells_by_name()['A3']"
   ]
  },
  {
   "cell_type": "code",
   "execution_count": 4,
   "metadata": {},
   "outputs": [],
   "source": [
    "v_s = 9\n",
    "\n",
    "def calibrated(v):\n",
    "    return v + 0\n",
    "\n",
    "def sample_test():\n",
    "    \"take a sample from the tube to a 96-well plate\"\n",
    "\n",
    "    # pipette the dye\n",
    "    #transfer_viscous(pipette, protocol, v_s / 3, DYE_TUBE, cur_well)\n",
    "\n",
    "    # pipette the sample\n",
    "    aspirate_viscous(pipette, protocol, calibrated(v_s), RXN_TUBE, asp_height=2)\n",
    "    dispense_viscous(pipette, protocol, calibrated(v_s), DIS_TUBE, if_mix=True)\n",
    "    \n",
    "\n",
    "v_g = 9\n",
    "\n",
    "def grow_test(v_g):\n",
    "    \"dilute the reaction with U-KaiC, KaiA, and KaiB by volume v_g\"\n",
    "    \n",
    "    v_g_per_tube = np.round(v_g / 3, 1)\n",
    "    \n",
    "    for i in range(3):\n",
    "        # it's also okay to mix KaiA and KaiB in one tube, then all conc are 2x\n",
    "        # do not dispense at the bottom. Defaults are 1mm from the bottom\n",
    "        transfer_viscous(pipette, protocol, calibrated(v_g_per_tube), FROM_TUBE, RXN_TUBE, if_mix=True) \n",
    "    "
   ]
  },
  {
   "cell_type": "code",
   "execution_count": 6,
   "metadata": {},
   "outputs": [],
   "source": [
    "protocol.set_rail_lights(True)\n",
    "\n",
    "for i in range(3):\n",
    "    grow_test(v_g)\n",
    "    sample_test()\n",
    "\n",
    "protocol.set_rail_lights(False)"
   ]
  },
  {
   "cell_type": "code",
   "execution_count": 14,
   "metadata": {},
   "outputs": [],
   "source": [
    "vol = 1\n",
    "\n",
    "protocol.set_rail_lights(True)\n",
    "\n",
    "for i in range(5):\n",
    "    aspirate_viscous(pipette, protocol, vol, FROM_TUBE, asp_height=2)\n",
    "    dispense_viscous(pipette, protocol, vol, RXN_TUBE_1, if_mix=True)\n",
    "    \n",
    "for i in range(5):\n",
    "    aspirate_viscous(pipette, protocol, vol, FROM_TUBE, asp_height=2)\n",
    "    dispense_viscous(pipette, protocol, vol, RXN_TUBE_2, if_mix=True)\n",
    "    \n",
    "for i in range(5):\n",
    "    aspirate_viscous(pipette, protocol, vol, FROM_TUBE, asp_height=2)\n",
    "    dispense_viscous(pipette, protocol, vol, RXN_TUBE_3, if_mix=True)\n",
    "    \n",
    "protocol.set_rail_lights(False)"
   ]
  }
 ],
 "metadata": {
  "kernelspec": {
   "display_name": "Python 3",
   "language": "python",
   "name": "python3"
  },
  "language_info": {
   "codemirror_mode": {
    "name": "ipython",
    "version": 3
   },
   "file_extension": ".py",
   "mimetype": "text/x-python",
   "name": "python",
   "nbconvert_exporter": "python",
   "pygments_lexer": "ipython3",
   "version": "3.7.1"
  }
 },
 "nbformat": 4,
 "nbformat_minor": 2
}
